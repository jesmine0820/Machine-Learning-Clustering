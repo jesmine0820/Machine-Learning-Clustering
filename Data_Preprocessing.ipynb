{
 "cells": [
  {
   "cell_type": "markdown",
   "metadata": {},
   "source": [
    "# Data Preprocessing"
   ]
  },
  {
   "cell_type": "code",
   "execution_count": 1,
   "metadata": {},
   "outputs": [],
   "source": [
    "# Import libraries\n",
    "import pandas as pd\n",
    "import re\n",
    "import numpy as np\n",
    "import matplotlib.pyplot as plt\n",
    "\n",
    "from nltk.corpus import stopwords, wordnet\n",
    "from nltk.tokenize import TreebankWordTokenizer\n",
    "from nltk.stem import PorterStemmer\n",
    "from nltk.stem import WordNetLemmatizer\n",
    "from gensim.models import Word2Vec\n",
    "from collections import Counter\n",
    "from sklearn.feature_extraction.text import TfidfVectorizer\n",
    "from sklearn.decomposition import PCA"
   ]
  },
  {
   "cell_type": "code",
   "execution_count": 2,
   "metadata": {},
   "outputs": [
    {
     "data": {
      "text/html": [
       "<div>\n",
       "<style scoped>\n",
       "    .dataframe tbody tr th:only-of-type {\n",
       "        vertical-align: middle;\n",
       "    }\n",
       "\n",
       "    .dataframe tbody tr th {\n",
       "        vertical-align: top;\n",
       "    }\n",
       "\n",
       "    .dataframe thead th {\n",
       "        text-align: right;\n",
       "    }\n",
       "</style>\n",
       "<table border=\"1\" class=\"dataframe\">\n",
       "  <thead>\n",
       "    <tr style=\"text-align: right;\">\n",
       "      <th></th>\n",
       "      <th>Title</th>\n",
       "      <th>Intro Text</th>\n",
       "      <th>Authors</th>\n",
       "      <th>Article Text</th>\n",
       "      <th>Date Published</th>\n",
       "    </tr>\n",
       "  </thead>\n",
       "  <tbody>\n",
       "    <tr>\n",
       "      <th>0</th>\n",
       "      <td>Liz Truss ‘will approve more oil drilling if ...</td>\n",
       "      <td>Tory leadership candidate criticised by campai...</td>\n",
       "      <td>['Rob Davies', '@ByRobDavies']</td>\n",
       "      <td>Liz Truss will sign off on a push for more oil...</td>\n",
       "      <td>2022-08-30</td>\n",
       "    </tr>\n",
       "    <tr>\n",
       "      <th>1</th>\n",
       "      <td>Renewed Highland golf course plan has environm...</td>\n",
       "      <td>Scottish government rejected a new links at Co...</td>\n",
       "      <td>['Ewan Murray', '@mrewanmurray']</td>\n",
       "      <td>It is an area so tranquil that the notion of b...</td>\n",
       "      <td>2021-03-22</td>\n",
       "    </tr>\n",
       "    <tr>\n",
       "      <th>2</th>\n",
       "      <td>Visiting green spaces deters mental health dr...</td>\n",
       "      <td>Positive effects were stronger among those rep...</td>\n",
       "      <td>['Damien Gayle', '@damiengayle']</td>\n",
       "      <td>Visits to parks, community gardens and other u...</td>\n",
       "      <td>2023-01-17</td>\n",
       "    </tr>\n",
       "    <tr>\n",
       "      <th>3</th>\n",
       "      <td>Bought too much red cabbage? Turn it into a fe...</td>\n",
       "      <td>This fantastic vegan centrepiece makes full us...</td>\n",
       "      <td>['Tom Hunt']</td>\n",
       "      <td>I devised today’s nut roast for Oddbox, a veg ...</td>\n",
       "      <td>2023-12-22</td>\n",
       "    </tr>\n",
       "    <tr>\n",
       "      <th>4</th>\n",
       "      <td>‘This year has been very good’: readers’ UK bu...</td>\n",
       "      <td>Readers share their favourite sightings over t...</td>\n",
       "      <td>['Guardian readers']</td>\n",
       "      <td>‘Constant companions to our gardening’A peacoc...</td>\n",
       "      <td>2023-12-19</td>\n",
       "    </tr>\n",
       "  </tbody>\n",
       "</table>\n",
       "</div>"
      ],
      "text/plain": [
       "                                               Title  \\\n",
       "0   Liz Truss ‘will approve more oil drilling if ...   \n",
       "1  Renewed Highland golf course plan has environm...   \n",
       "2   Visiting green spaces deters mental health dr...   \n",
       "3  Bought too much red cabbage? Turn it into a fe...   \n",
       "4  ‘This year has been very good’: readers’ UK bu...   \n",
       "\n",
       "                                          Intro Text  \\\n",
       "0  Tory leadership candidate criticised by campai...   \n",
       "1  Scottish government rejected a new links at Co...   \n",
       "2  Positive effects were stronger among those rep...   \n",
       "3  This fantastic vegan centrepiece makes full us...   \n",
       "4  Readers share their favourite sightings over t...   \n",
       "\n",
       "                            Authors  \\\n",
       "0    ['Rob Davies', '@ByRobDavies']   \n",
       "1  ['Ewan Murray', '@mrewanmurray']   \n",
       "2  ['Damien Gayle', '@damiengayle']   \n",
       "3                      ['Tom Hunt']   \n",
       "4              ['Guardian readers']   \n",
       "\n",
       "                                        Article Text Date Published  \n",
       "0  Liz Truss will sign off on a push for more oil...     2022-08-30  \n",
       "1  It is an area so tranquil that the notion of b...     2021-03-22  \n",
       "2  Visits to parks, community gardens and other u...     2023-01-17  \n",
       "3  I devised today’s nut roast for Oddbox, a veg ...     2023-12-22  \n",
       "4  ‘Constant companions to our gardening’A peacoc...     2023-12-19  "
      ]
     },
     "execution_count": 2,
     "metadata": {},
     "output_type": "execute_result"
    }
   ],
   "source": [
    "df = pd.read_csv(\"data/guardian_environment_news.csv\")\n",
    "df.head()"
   ]
  },
  {
   "cell_type": "code",
   "execution_count": 3,
   "metadata": {},
   "outputs": [],
   "source": [
    "# Feature Selection\n",
    "# We choose the title, intro text and article text to perform clustering\n",
    "# The goal of the clustering is to identify the similar news articles based on the title or the categories"
   ]
  },
  {
   "cell_type": "code",
   "execution_count": 4,
   "metadata": {},
   "outputs": [
    {
     "data": {
      "text/html": [
       "<div>\n",
       "<style scoped>\n",
       "    .dataframe tbody tr th:only-of-type {\n",
       "        vertical-align: middle;\n",
       "    }\n",
       "\n",
       "    .dataframe tbody tr th {\n",
       "        vertical-align: top;\n",
       "    }\n",
       "\n",
       "    .dataframe thead th {\n",
       "        text-align: right;\n",
       "    }\n",
       "</style>\n",
       "<table border=\"1\" class=\"dataframe\">\n",
       "  <thead>\n",
       "    <tr style=\"text-align: right;\">\n",
       "      <th></th>\n",
       "      <th>Title</th>\n",
       "      <th>Intro Text</th>\n",
       "      <th>Article Text</th>\n",
       "    </tr>\n",
       "  </thead>\n",
       "  <tbody>\n",
       "    <tr>\n",
       "      <th>0</th>\n",
       "      <td>Liz Truss ‘will approve more oil drilling if ...</td>\n",
       "      <td>Tory leadership candidate criticised by campai...</td>\n",
       "      <td>Liz Truss will sign off on a push for more oil...</td>\n",
       "    </tr>\n",
       "    <tr>\n",
       "      <th>1</th>\n",
       "      <td>Renewed Highland golf course plan has environm...</td>\n",
       "      <td>Scottish government rejected a new links at Co...</td>\n",
       "      <td>It is an area so tranquil that the notion of b...</td>\n",
       "    </tr>\n",
       "    <tr>\n",
       "      <th>2</th>\n",
       "      <td>Visiting green spaces deters mental health dr...</td>\n",
       "      <td>Positive effects were stronger among those rep...</td>\n",
       "      <td>Visits to parks, community gardens and other u...</td>\n",
       "    </tr>\n",
       "    <tr>\n",
       "      <th>3</th>\n",
       "      <td>Bought too much red cabbage? Turn it into a fe...</td>\n",
       "      <td>This fantastic vegan centrepiece makes full us...</td>\n",
       "      <td>I devised today’s nut roast for Oddbox, a veg ...</td>\n",
       "    </tr>\n",
       "    <tr>\n",
       "      <th>4</th>\n",
       "      <td>‘This year has been very good’: readers’ UK bu...</td>\n",
       "      <td>Readers share their favourite sightings over t...</td>\n",
       "      <td>‘Constant companions to our gardening’A peacoc...</td>\n",
       "    </tr>\n",
       "  </tbody>\n",
       "</table>\n",
       "</div>"
      ],
      "text/plain": [
       "                                               Title  \\\n",
       "0   Liz Truss ‘will approve more oil drilling if ...   \n",
       "1  Renewed Highland golf course plan has environm...   \n",
       "2   Visiting green spaces deters mental health dr...   \n",
       "3  Bought too much red cabbage? Turn it into a fe...   \n",
       "4  ‘This year has been very good’: readers’ UK bu...   \n",
       "\n",
       "                                          Intro Text  \\\n",
       "0  Tory leadership candidate criticised by campai...   \n",
       "1  Scottish government rejected a new links at Co...   \n",
       "2  Positive effects were stronger among those rep...   \n",
       "3  This fantastic vegan centrepiece makes full us...   \n",
       "4  Readers share their favourite sightings over t...   \n",
       "\n",
       "                                        Article Text  \n",
       "0  Liz Truss will sign off on a push for more oil...  \n",
       "1  It is an area so tranquil that the notion of b...  \n",
       "2  Visits to parks, community gardens and other u...  \n",
       "3  I devised today’s nut roast for Oddbox, a veg ...  \n",
       "4  ‘Constant companions to our gardening’A peacoc...  "
      ]
     },
     "execution_count": 4,
     "metadata": {},
     "output_type": "execute_result"
    }
   ],
   "source": [
    "# Drop unwanted columns\n",
    "df = df.drop([\"Authors\", \"Date Published\"], axis=1)\n",
    "df.head()"
   ]
  },
  {
   "cell_type": "code",
   "execution_count": 5,
   "metadata": {},
   "outputs": [
    {
     "data": {
      "text/html": [
       "<div>\n",
       "<style scoped>\n",
       "    .dataframe tbody tr th:only-of-type {\n",
       "        vertical-align: middle;\n",
       "    }\n",
       "\n",
       "    .dataframe tbody tr th {\n",
       "        vertical-align: top;\n",
       "    }\n",
       "\n",
       "    .dataframe thead th {\n",
       "        text-align: right;\n",
       "    }\n",
       "</style>\n",
       "<table border=\"1\" class=\"dataframe\">\n",
       "  <thead>\n",
       "    <tr style=\"text-align: right;\">\n",
       "      <th></th>\n",
       "      <th>article</th>\n",
       "    </tr>\n",
       "  </thead>\n",
       "  <tbody>\n",
       "    <tr>\n",
       "      <th>0</th>\n",
       "      <td>Liz Truss ‘will approve more oil drilling if ...</td>\n",
       "    </tr>\n",
       "    <tr>\n",
       "      <th>1</th>\n",
       "      <td>Renewed Highland golf course plan has environm...</td>\n",
       "    </tr>\n",
       "    <tr>\n",
       "      <th>2</th>\n",
       "      <td>Visiting green spaces deters mental health dr...</td>\n",
       "    </tr>\n",
       "    <tr>\n",
       "      <th>3</th>\n",
       "      <td>Bought too much red cabbage? Turn it into a fe...</td>\n",
       "    </tr>\n",
       "    <tr>\n",
       "      <th>4</th>\n",
       "      <td>‘This year has been very good’: readers’ UK bu...</td>\n",
       "    </tr>\n",
       "  </tbody>\n",
       "</table>\n",
       "</div>"
      ],
      "text/plain": [
       "                                             article\n",
       "0   Liz Truss ‘will approve more oil drilling if ...\n",
       "1  Renewed Highland golf course plan has environm...\n",
       "2   Visiting green spaces deters mental health dr...\n",
       "3  Bought too much red cabbage? Turn it into a fe...\n",
       "4  ‘This year has been very good’: readers’ UK bu..."
      ]
     },
     "execution_count": 5,
     "metadata": {},
     "output_type": "execute_result"
    }
   ],
   "source": [
    "# Combine the title, intro text and article text to get the full news article\n",
    "df[\"article\"] = df[\"Title\"] + \" \" + df[\"Intro Text\"] + \" \" + df[\"Article Text\"]\n",
    "df = df.drop([\"Title\", \"Intro Text\", \"Article Text\"], axis=1)\n",
    "df.head()"
   ]
  },
  {
   "cell_type": "code",
   "execution_count": 6,
   "metadata": {},
   "outputs": [
    {
     "data": {
      "text/plain": [
       "(30059, 1)"
      ]
     },
     "execution_count": 6,
     "metadata": {},
     "output_type": "execute_result"
    }
   ],
   "source": [
    "df.shape"
   ]
  },
  {
   "cell_type": "markdown",
   "metadata": {},
   "source": [
    "### Data Cleaning"
   ]
  },
  {
   "cell_type": "code",
   "execution_count": 7,
   "metadata": {},
   "outputs": [
    {
     "data": {
      "text/html": [
       "<div>\n",
       "<style scoped>\n",
       "    .dataframe tbody tr th:only-of-type {\n",
       "        vertical-align: middle;\n",
       "    }\n",
       "\n",
       "    .dataframe tbody tr th {\n",
       "        vertical-align: top;\n",
       "    }\n",
       "\n",
       "    .dataframe thead th {\n",
       "        text-align: right;\n",
       "    }\n",
       "</style>\n",
       "<table border=\"1\" class=\"dataframe\">\n",
       "  <thead>\n",
       "    <tr style=\"text-align: right;\">\n",
       "      <th></th>\n",
       "      <th>article</th>\n",
       "    </tr>\n",
       "  </thead>\n",
       "  <tbody>\n",
       "    <tr>\n",
       "      <th>0</th>\n",
       "      <td>Liz Truss ‘will approve more oil drilling if ...</td>\n",
       "    </tr>\n",
       "    <tr>\n",
       "      <th>1</th>\n",
       "      <td>Renewed Highland golf course plan has environm...</td>\n",
       "    </tr>\n",
       "    <tr>\n",
       "      <th>2</th>\n",
       "      <td>Visiting green spaces deters mental health dr...</td>\n",
       "    </tr>\n",
       "    <tr>\n",
       "      <th>3</th>\n",
       "      <td>Bought too much red cabbage? Turn it into a fe...</td>\n",
       "    </tr>\n",
       "    <tr>\n",
       "      <th>4</th>\n",
       "      <td>‘This year has been very good’: readers’ UK bu...</td>\n",
       "    </tr>\n",
       "  </tbody>\n",
       "</table>\n",
       "</div>"
      ],
      "text/plain": [
       "                                             article\n",
       "0   Liz Truss ‘will approve more oil drilling if ...\n",
       "1  Renewed Highland golf course plan has environm...\n",
       "2   Visiting green spaces deters mental health dr...\n",
       "3  Bought too much red cabbage? Turn it into a fe...\n",
       "4  ‘This year has been very good’: readers’ UK bu..."
      ]
     },
     "execution_count": 7,
     "metadata": {},
     "output_type": "execute_result"
    }
   ],
   "source": [
    "# Remove the missing value\n",
    "df = df.dropna()\n",
    "df.head()"
   ]
  },
  {
   "cell_type": "code",
   "execution_count": 8,
   "metadata": {},
   "outputs": [
    {
     "data": {
      "text/html": [
       "<div>\n",
       "<style scoped>\n",
       "    .dataframe tbody tr th:only-of-type {\n",
       "        vertical-align: middle;\n",
       "    }\n",
       "\n",
       "    .dataframe tbody tr th {\n",
       "        vertical-align: top;\n",
       "    }\n",
       "\n",
       "    .dataframe thead th {\n",
       "        text-align: right;\n",
       "    }\n",
       "</style>\n",
       "<table border=\"1\" class=\"dataframe\">\n",
       "  <thead>\n",
       "    <tr style=\"text-align: right;\">\n",
       "      <th></th>\n",
       "      <th>article</th>\n",
       "    </tr>\n",
       "  </thead>\n",
       "  <tbody>\n",
       "    <tr>\n",
       "      <th>0</th>\n",
       "      <td>Liz Truss ‘will approve more oil drilling if ...</td>\n",
       "    </tr>\n",
       "    <tr>\n",
       "      <th>1</th>\n",
       "      <td>Renewed Highland golf course plan has environm...</td>\n",
       "    </tr>\n",
       "    <tr>\n",
       "      <th>2</th>\n",
       "      <td>Visiting green spaces deters mental health dr...</td>\n",
       "    </tr>\n",
       "    <tr>\n",
       "      <th>3</th>\n",
       "      <td>Bought too much red cabbage? Turn it into a fe...</td>\n",
       "    </tr>\n",
       "    <tr>\n",
       "      <th>4</th>\n",
       "      <td>‘This year has been very good’: readers’ UK bu...</td>\n",
       "    </tr>\n",
       "  </tbody>\n",
       "</table>\n",
       "</div>"
      ],
      "text/plain": [
       "                                             article\n",
       "0   Liz Truss ‘will approve more oil drilling if ...\n",
       "1  Renewed Highland golf course plan has environm...\n",
       "2   Visiting green spaces deters mental health dr...\n",
       "3  Bought too much red cabbage? Turn it into a fe...\n",
       "4  ‘This year has been very good’: readers’ UK bu..."
      ]
     },
     "execution_count": 8,
     "metadata": {},
     "output_type": "execute_result"
    }
   ],
   "source": [
    "df = df.drop_duplicates()\n",
    "df.head()"
   ]
  },
  {
   "cell_type": "code",
   "execution_count": 9,
   "metadata": {},
   "outputs": [
    {
     "data": {
      "text/html": [
       "<div>\n",
       "<style scoped>\n",
       "    .dataframe tbody tr th:only-of-type {\n",
       "        vertical-align: middle;\n",
       "    }\n",
       "\n",
       "    .dataframe tbody tr th {\n",
       "        vertical-align: top;\n",
       "    }\n",
       "\n",
       "    .dataframe thead th {\n",
       "        text-align: right;\n",
       "    }\n",
       "</style>\n",
       "<table border=\"1\" class=\"dataframe\">\n",
       "  <thead>\n",
       "    <tr style=\"text-align: right;\">\n",
       "      <th></th>\n",
       "      <th>article</th>\n",
       "      <th>Text_Length</th>\n",
       "    </tr>\n",
       "  </thead>\n",
       "  <tbody>\n",
       "    <tr>\n",
       "      <th>2</th>\n",
       "      <td>Visiting green spaces deters mental health dr...</td>\n",
       "      <td>593</td>\n",
       "    </tr>\n",
       "    <tr>\n",
       "      <th>3</th>\n",
       "      <td>Bought too much red cabbage? Turn it into a fe...</td>\n",
       "      <td>542</td>\n",
       "    </tr>\n",
       "    <tr>\n",
       "      <th>4</th>\n",
       "      <td>‘This year has been very good’: readers’ UK bu...</td>\n",
       "      <td>941</td>\n",
       "    </tr>\n",
       "    <tr>\n",
       "      <th>6</th>\n",
       "      <td>Scaly stowaway: lizard makes an appearance at...</td>\n",
       "      <td>657</td>\n",
       "    </tr>\n",
       "    <tr>\n",
       "      <th>8</th>\n",
       "      <td>UK energy industry urges ministers to stick w...</td>\n",
       "      <td>806</td>\n",
       "    </tr>\n",
       "  </tbody>\n",
       "</table>\n",
       "</div>"
      ],
      "text/plain": [
       "                                             article  Text_Length\n",
       "2   Visiting green spaces deters mental health dr...          593\n",
       "3  Bought too much red cabbage? Turn it into a fe...          542\n",
       "4  ‘This year has been very good’: readers’ UK bu...          941\n",
       "6   Scaly stowaway: lizard makes an appearance at...          657\n",
       "8   UK energy industry urges ministers to stick w...          806"
      ]
     },
     "execution_count": 9,
     "metadata": {},
     "output_type": "execute_result"
    }
   ],
   "source": [
    "# Remove extremely short or long documents\n",
    "df[\"Text_Length\"] = df[\"article\"].apply(lambda x: len(x.split()))\n",
    "\n",
    "# Define length thresholds\n",
    "min_length = df[\"Text_Length\"].quantile(0.2)\n",
    "max_length = df[\"Text_Length\"].quantile(0.8)\n",
    "\n",
    "df = df[(df[\"Text_Length\"] > min_length) & (df[\"Text_Length\"] < max_length)]\n",
    "df.head()"
   ]
  },
  {
   "cell_type": "code",
   "execution_count": 10,
   "metadata": {},
   "outputs": [
    {
     "data": {
      "text/plain": [
       "(17181, 2)"
      ]
     },
     "execution_count": 10,
     "metadata": {},
     "output_type": "execute_result"
    }
   ],
   "source": [
    "df.shape"
   ]
  },
  {
   "cell_type": "code",
   "execution_count": 11,
   "metadata": {},
   "outputs": [
    {
     "data": {
      "text/html": [
       "<div>\n",
       "<style scoped>\n",
       "    .dataframe tbody tr th:only-of-type {\n",
       "        vertical-align: middle;\n",
       "    }\n",
       "\n",
       "    .dataframe tbody tr th {\n",
       "        vertical-align: top;\n",
       "    }\n",
       "\n",
       "    .dataframe thead th {\n",
       "        text-align: right;\n",
       "    }\n",
       "</style>\n",
       "<table border=\"1\" class=\"dataframe\">\n",
       "  <thead>\n",
       "    <tr style=\"text-align: right;\">\n",
       "      <th></th>\n",
       "      <th>article</th>\n",
       "      <th>Text_Length</th>\n",
       "      <th>Repetition_Ratio</th>\n",
       "    </tr>\n",
       "  </thead>\n",
       "  <tbody>\n",
       "    <tr>\n",
       "      <th>3</th>\n",
       "      <td>Bought too much red cabbage? Turn it into a fe...</td>\n",
       "      <td>542</td>\n",
       "      <td>0.047970</td>\n",
       "    </tr>\n",
       "    <tr>\n",
       "      <th>6</th>\n",
       "      <td>Scaly stowaway: lizard makes an appearance at...</td>\n",
       "      <td>657</td>\n",
       "      <td>0.059361</td>\n",
       "    </tr>\n",
       "    <tr>\n",
       "      <th>8</th>\n",
       "      <td>UK energy industry urges ministers to stick w...</td>\n",
       "      <td>806</td>\n",
       "      <td>0.050868</td>\n",
       "    </tr>\n",
       "    <tr>\n",
       "      <th>16</th>\n",
       "      <td>This article is more than 11 months oldFood, ...</td>\n",
       "      <td>765</td>\n",
       "      <td>0.045752</td>\n",
       "    </tr>\n",
       "    <tr>\n",
       "      <th>17</th>\n",
       "      <td>This article is more than 4 months oldUS behi...</td>\n",
       "      <td>902</td>\n",
       "      <td>0.057650</td>\n",
       "    </tr>\n",
       "  </tbody>\n",
       "</table>\n",
       "</div>"
      ],
      "text/plain": [
       "                                              article  Text_Length  \\\n",
       "3   Bought too much red cabbage? Turn it into a fe...          542   \n",
       "6    Scaly stowaway: lizard makes an appearance at...          657   \n",
       "8    UK energy industry urges ministers to stick w...          806   \n",
       "16   This article is more than 11 months oldFood, ...          765   \n",
       "17   This article is more than 4 months oldUS behi...          902   \n",
       "\n",
       "    Repetition_Ratio  \n",
       "3           0.047970  \n",
       "6           0.059361  \n",
       "8           0.050868  \n",
       "16          0.045752  \n",
       "17          0.057650  "
      ]
     },
     "execution_count": 11,
     "metadata": {},
     "output_type": "execute_result"
    }
   ],
   "source": [
    "# Remove documents with high word repetition\n",
    "# Detect spam-like text\n",
    "def word_repetition(text):\n",
    "    words = text.split()\n",
    "    word_counts = Counter(words)\n",
    "    most_common_word, most_common_count = word_counts.most_common(1)[0]\n",
    "    return most_common_count / len(words)\n",
    "\n",
    "df[\"Repetition_Ratio\"] = df[\"article\"].apply(word_repetition)\n",
    "df = df[(df[\"Repetition_Ratio\"] < 0.06) & (df[\"Repetition_Ratio\"] > 0.045)]\n",
    "df.head()"
   ]
  },
  {
   "cell_type": "code",
   "execution_count": 12,
   "metadata": {},
   "outputs": [
    {
     "data": {
      "text/plain": [
       "(8187, 3)"
      ]
     },
     "execution_count": 12,
     "metadata": {},
     "output_type": "execute_result"
    }
   ],
   "source": [
    "df.shape"
   ]
  },
  {
   "cell_type": "code",
   "execution_count": 13,
   "metadata": {},
   "outputs": [
    {
     "data": {
      "text/plain": [
       "article             object\n",
       "Text_Length         object\n",
       "Repetition_Ratio    object\n",
       "dtype: object"
      ]
     },
     "execution_count": 13,
     "metadata": {},
     "output_type": "execute_result"
    }
   ],
   "source": [
    "df = df.astype(str)\n",
    "df.dtypes"
   ]
  },
  {
   "cell_type": "markdown",
   "metadata": {},
   "source": [
    "### Text Preprocessing"
   ]
  },
  {
   "cell_type": "markdown",
   "metadata": {},
   "source": [
    "##### Text Cleaning"
   ]
  },
  {
   "cell_type": "code",
   "execution_count": 14,
   "metadata": {},
   "outputs": [],
   "source": [
    "# Text Cleanning Function\n",
    "def clean_text(text):\n",
    "    # Convert into lowercase\n",
    "    text = text.lower()\n",
    "\n",
    "    # Remove punctuation\n",
    "    text = re.sub(r'[^\\w\\s]', ' ', text)\n",
    "\n",
    "    # Remove numbers\n",
    "    text = re.sub(r'\\d+', '', text)\n",
    "\n",
    "    # Remove extra blanks\n",
    "    text = re.sub(r'\\s+', ' ', text).strip()\n",
    "\n",
    "    return text"
   ]
  },
  {
   "cell_type": "code",
   "execution_count": 15,
   "metadata": {},
   "outputs": [
    {
     "name": "stdout",
     "output_type": "stream",
     "text": [
      "3        bought too much red cabbage turn it into a fes...\n",
      "6        scaly stowaway lizard makes an appearance at c...\n",
      "8        uk energy industry urges ministers to stick wi...\n",
      "16       this article is more than months oldfood feed ...\n",
      "17       this article is more than months oldus behind ...\n",
      "                               ...                        \n",
      "30038    capitalism is part of solution to climate cris...\n",
      "30040    of course i m hot for the return of wrestling ...\n",
      "30042    country diary seal remains show nature is not ...\n",
      "30050    bhp faces fresh calls to quit minerals council...\n",
      "30054    climate change could make insurance too expens...\n",
      "Name: article, Length: 8187, dtype: object\n"
     ]
    }
   ],
   "source": [
    "df[\"article\"] = df[\"article\"].map(clean_text)\n",
    "print(df[\"article\"])"
   ]
  },
  {
   "cell_type": "markdown",
   "metadata": {},
   "source": [
    "##### Tokenization with Stopword Removal"
   ]
  },
  {
   "cell_type": "code",
   "execution_count": 16,
   "metadata": {},
   "outputs": [
    {
     "name": "stdout",
     "output_type": "stream",
     "text": [
      "3        [bought, much, red, cabbage, turn, festive, nu...\n",
      "6        [scaly, stowaway, lizard, makes, appearance, c...\n",
      "8        [uk, energy, industry, urges, ministers, stick...\n",
      "16       [article, months, oldfood, feed, fuel, global,...\n",
      "17       [article, months, oldus, behind, third, global...\n",
      "                               ...                        \n",
      "30038    [capitalism, part, solution, climate, crisis, ...\n",
      "30040    [course, hot, return, wrestling, eastenders, l...\n",
      "30042    [country, diary, seal, remains, show, nature, ...\n",
      "30050    [bhp, faces, fresh, calls, quit, minerals, cou...\n",
      "30054    [climate, change, could, make, insurance, expe...\n",
      "Name: article, Length: 8187, dtype: object\n"
     ]
    }
   ],
   "source": [
    "# Initialize Treebank tokenizer\n",
    "tokenizer = TreebankWordTokenizer()\n",
    "\n",
    "# Get English stopwords\n",
    "stop_words = set(stopwords.words(\"english\"))\n",
    "\n",
    "# Tokenization function\n",
    "def tokenize_tokens(text):\n",
    "    tokens = tokenizer.tokenize(text) \n",
    "    filtered_tokens = []\n",
    "    \n",
    "    for word in tokens:\n",
    "        if word.lower() in stop_words:\n",
    "            continue\n",
    "        else:\n",
    "            filtered_tokens.append(word)\n",
    "    \n",
    "    return filtered_tokens\n",
    "\n",
    "df[\"article\"] = df[\"article\"].apply(tokenize_tokens)\n",
    "\n",
    "print(df[\"article\"])\n"
   ]
  },
  {
   "cell_type": "markdown",
   "metadata": {},
   "source": [
    "##### Stemming and Lemmatization"
   ]
  },
  {
   "cell_type": "code",
   "execution_count": 17,
   "metadata": {},
   "outputs": [
    {
     "name": "stdout",
     "output_type": "stream",
     "text": [
      "3        [bought, much, red, cabbag, turn, festiv, nut,...\n",
      "6        [scali, stowaway, lizard, make, appear, chelse...\n",
      "8        [uk, energi, industri, urg, minist, stick, net...\n",
      "16       [articl, month, oldfood, feed, fuel, global, s...\n",
      "17       [articl, month, oldu, behind, third, global, o...\n",
      "                               ...                        \n",
      "30038    [capit, part, solut, climat, crisi, say, mark,...\n",
      "30040    [cours, hot, return, wrestl, eastend, legendal...\n",
      "30042    [countri, diari, seal, remain, show, natur, se...\n",
      "30050    [bhp, face, fresh, call, quit, miner, council,...\n",
      "30054    [climat, chang, could, make, insur, expens, pe...\n",
      "Name: stem_article, Length: 8187, dtype: object\n"
     ]
    }
   ],
   "source": [
    "# Stemming\n",
    "# Since stemming is rule based and can lead to inaccurate word root form, \n",
    "# we just apply it to visualize the result first\n",
    "def stemming_tokens(tokens):\n",
    "    stemmer = PorterStemmer()\n",
    "    stemmed_tokens = [stemmer.stem(word) for word in tokens]\n",
    "    return stemmed_tokens\n",
    "\n",
    "df[\"stem_article\"] = df[\"article\"].apply(stemming_tokens)\n",
    "\n",
    "print(df[\"stem_article\"])"
   ]
  },
  {
   "cell_type": "code",
   "execution_count": 18,
   "metadata": {},
   "outputs": [
    {
     "name": "stdout",
     "output_type": "stream",
     "text": [
      "3        buy much red cabbage turn festive nut roast re...\n",
      "6        scaly stowaway lizard make appearance chelsea ...\n",
      "8        uk energy industry urge minister stick net zer...\n",
      "16       article months oldfood fee fuel global seaweed...\n",
      "17       article months oldus behind third global oil g...\n",
      "                               ...                        \n",
      "30038    capitalism part solution climate crisis say ma...\n",
      "30040    course hot return wrestle eastenders legendale...\n",
      "30042    country diary seal remain show nature sentimen...\n",
      "30050    bhp face fresh call quit minerals council ahea...\n",
      "30054    climate change could make insurance expensive ...\n",
      "Name: article, Length: 8187, dtype: object\n"
     ]
    }
   ],
   "source": [
    "# Lemmatization\n",
    "# As lemmatization can bring to a more accurate word in base form, \n",
    "# Thus, we direct to apply lemmatization on the article\n",
    "def lemmatizing_tokens(tokens):\n",
    "    lemmatizer = WordNetLemmatizer()\n",
    "    lemmatized_tokens = [lemmatizer.lemmatize(word, pos='v') for word in tokens]\n",
    "    return ' '.join(lemmatized_tokens)\n",
    "\n",
    "df[\"article\"] = df[\"article\"].apply(lemmatizing_tokens)\n",
    "\n",
    "print(df[\"article\"])\n"
   ]
  },
  {
   "cell_type": "code",
   "execution_count": 19,
   "metadata": {},
   "outputs": [
    {
     "data": {
      "text/html": [
       "<div>\n",
       "<style scoped>\n",
       "    .dataframe tbody tr th:only-of-type {\n",
       "        vertical-align: middle;\n",
       "    }\n",
       "\n",
       "    .dataframe tbody tr th {\n",
       "        vertical-align: top;\n",
       "    }\n",
       "\n",
       "    .dataframe thead th {\n",
       "        text-align: right;\n",
       "    }\n",
       "</style>\n",
       "<table border=\"1\" class=\"dataframe\">\n",
       "  <thead>\n",
       "    <tr style=\"text-align: right;\">\n",
       "      <th></th>\n",
       "      <th>article</th>\n",
       "      <th>Text_Length</th>\n",
       "      <th>Repetition_Ratio</th>\n",
       "    </tr>\n",
       "  </thead>\n",
       "  <tbody>\n",
       "    <tr>\n",
       "      <th>3</th>\n",
       "      <td>buy much red cabbage turn festive nut roast re...</td>\n",
       "      <td>542</td>\n",
       "      <td>0.04797047970479705</td>\n",
       "    </tr>\n",
       "    <tr>\n",
       "      <th>6</th>\n",
       "      <td>scaly stowaway lizard make appearance chelsea ...</td>\n",
       "      <td>657</td>\n",
       "      <td>0.0593607305936073</td>\n",
       "    </tr>\n",
       "    <tr>\n",
       "      <th>8</th>\n",
       "      <td>uk energy industry urge minister stick net zer...</td>\n",
       "      <td>806</td>\n",
       "      <td>0.05086848635235732</td>\n",
       "    </tr>\n",
       "    <tr>\n",
       "      <th>16</th>\n",
       "      <td>article months oldfood fee fuel global seaweed...</td>\n",
       "      <td>765</td>\n",
       "      <td>0.0457516339869281</td>\n",
       "    </tr>\n",
       "    <tr>\n",
       "      <th>17</th>\n",
       "      <td>article months oldus behind third global oil g...</td>\n",
       "      <td>902</td>\n",
       "      <td>0.057649667405764965</td>\n",
       "    </tr>\n",
       "  </tbody>\n",
       "</table>\n",
       "</div>"
      ],
      "text/plain": [
       "                                              article Text_Length  \\\n",
       "3   buy much red cabbage turn festive nut roast re...         542   \n",
       "6   scaly stowaway lizard make appearance chelsea ...         657   \n",
       "8   uk energy industry urge minister stick net zer...         806   \n",
       "16  article months oldfood fee fuel global seaweed...         765   \n",
       "17  article months oldus behind third global oil g...         902   \n",
       "\n",
       "        Repetition_Ratio  \n",
       "3    0.04797047970479705  \n",
       "6     0.0593607305936073  \n",
       "8    0.05086848635235732  \n",
       "16    0.0457516339869281  \n",
       "17  0.057649667405764965  "
      ]
     },
     "execution_count": 19,
     "metadata": {},
     "output_type": "execute_result"
    }
   ],
   "source": [
    "df = df.drop(['stem_article'], axis=1)\n",
    "df.head()"
   ]
  },
  {
   "cell_type": "markdown",
   "metadata": {},
   "source": [
    "### Feature Engineering"
   ]
  },
  {
   "cell_type": "markdown",
   "metadata": {},
   "source": [
    "##### Term Frequency-Inverse Document Frequency (TF-IDF)\n",
    "Best for the text clustering and document classification"
   ]
  },
  {
   "cell_type": "code",
   "execution_count": 20,
   "metadata": {},
   "outputs": [
    {
     "data": {
      "text/html": [
       "<div>\n",
       "<style scoped>\n",
       "    .dataframe tbody tr th:only-of-type {\n",
       "        vertical-align: middle;\n",
       "    }\n",
       "\n",
       "    .dataframe tbody tr th {\n",
       "        vertical-align: top;\n",
       "    }\n",
       "\n",
       "    .dataframe thead th {\n",
       "        text-align: right;\n",
       "    }\n",
       "</style>\n",
       "<table border=\"1\" class=\"dataframe\">\n",
       "  <thead>\n",
       "    <tr style=\"text-align: right;\">\n",
       "      <th></th>\n",
       "      <th>abandon</th>\n",
       "      <th>abbott</th>\n",
       "      <th>abc</th>\n",
       "      <th>ability</th>\n",
       "      <th>able</th>\n",
       "      <th>aboriginal</th>\n",
       "      <th>abroad</th>\n",
       "      <th>absence</th>\n",
       "      <th>absolute</th>\n",
       "      <th>absolutely</th>\n",
       "      <th>...</th>\n",
       "      <th>yosemite</th>\n",
       "      <th>young</th>\n",
       "      <th>younger</th>\n",
       "      <th>youth</th>\n",
       "      <th>youtube</th>\n",
       "      <th>zealand</th>\n",
       "      <th>zero</th>\n",
       "      <th>zone</th>\n",
       "      <th>zoo</th>\n",
       "      <th>zoos</th>\n",
       "    </tr>\n",
       "  </thead>\n",
       "  <tbody>\n",
       "    <tr>\n",
       "      <th>0</th>\n",
       "      <td>0.000000</td>\n",
       "      <td>0.0</td>\n",
       "      <td>0.0</td>\n",
       "      <td>0.0</td>\n",
       "      <td>0.0</td>\n",
       "      <td>0.0</td>\n",
       "      <td>0.0</td>\n",
       "      <td>0.0</td>\n",
       "      <td>0.0</td>\n",
       "      <td>0.0</td>\n",
       "      <td>...</td>\n",
       "      <td>0.0</td>\n",
       "      <td>0.0</td>\n",
       "      <td>0.0</td>\n",
       "      <td>0.0</td>\n",
       "      <td>0.0</td>\n",
       "      <td>0.0</td>\n",
       "      <td>0.000000</td>\n",
       "      <td>0.0</td>\n",
       "      <td>0.0</td>\n",
       "      <td>0.0</td>\n",
       "    </tr>\n",
       "    <tr>\n",
       "      <th>1</th>\n",
       "      <td>0.000000</td>\n",
       "      <td>0.0</td>\n",
       "      <td>0.0</td>\n",
       "      <td>0.0</td>\n",
       "      <td>0.0</td>\n",
       "      <td>0.0</td>\n",
       "      <td>0.0</td>\n",
       "      <td>0.0</td>\n",
       "      <td>0.0</td>\n",
       "      <td>0.0</td>\n",
       "      <td>...</td>\n",
       "      <td>0.0</td>\n",
       "      <td>0.0</td>\n",
       "      <td>0.0</td>\n",
       "      <td>0.0</td>\n",
       "      <td>0.0</td>\n",
       "      <td>0.0</td>\n",
       "      <td>0.000000</td>\n",
       "      <td>0.0</td>\n",
       "      <td>0.0</td>\n",
       "      <td>0.0</td>\n",
       "    </tr>\n",
       "    <tr>\n",
       "      <th>2</th>\n",
       "      <td>0.039548</td>\n",
       "      <td>0.0</td>\n",
       "      <td>0.0</td>\n",
       "      <td>0.0</td>\n",
       "      <td>0.0</td>\n",
       "      <td>0.0</td>\n",
       "      <td>0.0</td>\n",
       "      <td>0.0</td>\n",
       "      <td>0.0</td>\n",
       "      <td>0.0</td>\n",
       "      <td>...</td>\n",
       "      <td>0.0</td>\n",
       "      <td>0.0</td>\n",
       "      <td>0.0</td>\n",
       "      <td>0.0</td>\n",
       "      <td>0.0</td>\n",
       "      <td>0.0</td>\n",
       "      <td>0.199614</td>\n",
       "      <td>0.0</td>\n",
       "      <td>0.0</td>\n",
       "      <td>0.0</td>\n",
       "    </tr>\n",
       "    <tr>\n",
       "      <th>3</th>\n",
       "      <td>0.000000</td>\n",
       "      <td>0.0</td>\n",
       "      <td>0.0</td>\n",
       "      <td>0.0</td>\n",
       "      <td>0.0</td>\n",
       "      <td>0.0</td>\n",
       "      <td>0.0</td>\n",
       "      <td>0.0</td>\n",
       "      <td>0.0</td>\n",
       "      <td>0.0</td>\n",
       "      <td>...</td>\n",
       "      <td>0.0</td>\n",
       "      <td>0.0</td>\n",
       "      <td>0.0</td>\n",
       "      <td>0.0</td>\n",
       "      <td>0.0</td>\n",
       "      <td>0.0</td>\n",
       "      <td>0.000000</td>\n",
       "      <td>0.0</td>\n",
       "      <td>0.0</td>\n",
       "      <td>0.0</td>\n",
       "    </tr>\n",
       "    <tr>\n",
       "      <th>4</th>\n",
       "      <td>0.000000</td>\n",
       "      <td>0.0</td>\n",
       "      <td>0.0</td>\n",
       "      <td>0.0</td>\n",
       "      <td>0.0</td>\n",
       "      <td>0.0</td>\n",
       "      <td>0.0</td>\n",
       "      <td>0.0</td>\n",
       "      <td>0.0</td>\n",
       "      <td>0.0</td>\n",
       "      <td>...</td>\n",
       "      <td>0.0</td>\n",
       "      <td>0.0</td>\n",
       "      <td>0.0</td>\n",
       "      <td>0.0</td>\n",
       "      <td>0.0</td>\n",
       "      <td>0.0</td>\n",
       "      <td>0.051378</td>\n",
       "      <td>0.0</td>\n",
       "      <td>0.0</td>\n",
       "      <td>0.0</td>\n",
       "    </tr>\n",
       "  </tbody>\n",
       "</table>\n",
       "<p>5 rows × 5000 columns</p>\n",
       "</div>"
      ],
      "text/plain": [
       "    abandon  abbott  abc  ability  able  aboriginal  abroad  absence  \\\n",
       "0  0.000000     0.0  0.0      0.0   0.0         0.0     0.0      0.0   \n",
       "1  0.000000     0.0  0.0      0.0   0.0         0.0     0.0      0.0   \n",
       "2  0.039548     0.0  0.0      0.0   0.0         0.0     0.0      0.0   \n",
       "3  0.000000     0.0  0.0      0.0   0.0         0.0     0.0      0.0   \n",
       "4  0.000000     0.0  0.0      0.0   0.0         0.0     0.0      0.0   \n",
       "\n",
       "   absolute  absolutely  ...  yosemite  young  younger  youth  youtube  \\\n",
       "0       0.0         0.0  ...       0.0    0.0      0.0    0.0      0.0   \n",
       "1       0.0         0.0  ...       0.0    0.0      0.0    0.0      0.0   \n",
       "2       0.0         0.0  ...       0.0    0.0      0.0    0.0      0.0   \n",
       "3       0.0         0.0  ...       0.0    0.0      0.0    0.0      0.0   \n",
       "4       0.0         0.0  ...       0.0    0.0      0.0    0.0      0.0   \n",
       "\n",
       "   zealand      zero  zone  zoo  zoos  \n",
       "0      0.0  0.000000   0.0  0.0   0.0  \n",
       "1      0.0  0.000000   0.0  0.0   0.0  \n",
       "2      0.0  0.199614   0.0  0.0   0.0  \n",
       "3      0.0  0.000000   0.0  0.0   0.0  \n",
       "4      0.0  0.051378   0.0  0.0   0.0  \n",
       "\n",
       "[5 rows x 5000 columns]"
      ]
     },
     "execution_count": 20,
     "metadata": {},
     "output_type": "execute_result"
    }
   ],
   "source": [
    "# Define TF-IDF\n",
    "vectorizer = TfidfVectorizer(stop_words=\"english\", max_features=5000)  # Increased features\n",
    "\n",
    "# Applying TF-IDF\n",
    "tfidf_matrix = vectorizer.fit_transform(df['article'])  \n",
    "\n",
    "feature_names = vectorizer.get_feature_names_out()\n",
    "\n",
    "# Convert TF-IDF matrix to DataFrame\n",
    "tfidf_df = pd.DataFrame(tfidf_matrix.toarray(), columns=vectorizer.get_feature_names_out())\n",
    "\n",
    "# Display a sample of the transformed data\n",
    "tfidf_df.head()"
   ]
  },
  {
   "cell_type": "code",
   "execution_count": 21,
   "metadata": {},
   "outputs": [
    {
     "name": "stdout",
     "output_type": "stream",
     "text": [
      "TF-IDF words saved to 'tfidf_words_lemmatized.csv'\n"
     ]
    }
   ],
   "source": [
    "# Save to CSV file\n",
    "tfidf_df.to_csv(\"data/tfidf_words_lemmatized.csv\", index=False)\n",
    "\n",
    "print(\"TF-IDF words saved to 'tfidf_words_lemmatized.csv'\")"
   ]
  },
  {
   "cell_type": "markdown",
   "metadata": {},
   "source": [
    "##### Word Embeddings\n",
    "Best for finding similar words and performing NLP tasks"
   ]
  },
  {
   "cell_type": "code",
   "execution_count": 22,
   "metadata": {},
   "outputs": [],
   "source": [
    "df[\"tokens\"] = df[\"article\"].apply(lambda x: x.split())\n",
    "\n",
    "word2vec_model = Word2Vec(sentences=df[\"tokens\"], vector_size=100, window=5, min_count=2, workers=4)\n",
    "\n",
    "# Save the model\n",
    "word2vec_model.save(\"word2vec_model.model\")"
   ]
  },
  {
   "cell_type": "code",
   "execution_count": 23,
   "metadata": {},
   "outputs": [],
   "source": [
    "# Test the saved model\n",
    "similar_words = word2vec_model.wv.most_similar(\"environment\", topn=10)\n",
    "words = [word for word, _ in similar_words]\n",
    "words.append(\"environment\") \n",
    "word_vectors = np.array([word2vec_model.wv[word] for word in words])"
   ]
  },
  {
   "cell_type": "code",
   "execution_count": 24,
   "metadata": {},
   "outputs": [
    {
     "data": {
      "image/png": "[encoded data removed]",
      "text/plain": [
       "<Figure size 1000x700 with 1 Axes>"
      ]
     },
     "metadata": {},
     "output_type": "display_data"
    }
   ],
   "source": [
    "# Visualize the similar word\n",
    "pca = PCA(n_components=2)\n",
    "reduced_vectors = pca.fit_transform(word_vectors)\n",
    "\n",
    "plt.figure(figsize=(10, 7))\n",
    "for i, word in enumerate(words):\n",
    "    plt.scatter(reduced_vectors[i, 0], reduced_vectors[i, 1])\n",
    "    plt.text(reduced_vectors[i, 0]+0.01, reduced_vectors[i, 1]+0.01, word, fontsize=8)\n",
    "\n",
    "plt.title(\"Word2Vec Similar Words to 'climate'\")\n",
    "plt.xlabel(\"Dimension 1\")\n",
    "plt.ylabel(\"Dimension 2\")\n",
    "plt.grid(True)\n",
    "plt.show()"
   ]
  },
  {
   "cell_type": "markdown",
   "metadata": {},
   "source": [
    "### Save into CSV file for Future use"
   ]
  },
  {
   "cell_type": "code",
   "execution_count": 25,
   "metadata": {},
   "outputs": [
    {
     "data": {
      "text/html": [
       "<div>\n",
       "<style scoped>\n",
       "    .dataframe tbody tr th:only-of-type {\n",
       "        vertical-align: middle;\n",
       "    }\n",
       "\n",
       "    .dataframe tbody tr th {\n",
       "        vertical-align: top;\n",
       "    }\n",
       "\n",
       "    .dataframe thead th {\n",
       "        text-align: right;\n",
       "    }\n",
       "</style>\n",
       "<table border=\"1\" class=\"dataframe\">\n",
       "  <thead>\n",
       "    <tr style=\"text-align: right;\">\n",
       "      <th></th>\n",
       "      <th>article</th>\n",
       "      <th>Text_Length</th>\n",
       "      <th>Repetition_Ratio</th>\n",
       "    </tr>\n",
       "  </thead>\n",
       "  <tbody>\n",
       "    <tr>\n",
       "      <th>3</th>\n",
       "      <td>buy much red cabbage turn festive nut roast re...</td>\n",
       "      <td>542</td>\n",
       "      <td>0.04797047970479705</td>\n",
       "    </tr>\n",
       "    <tr>\n",
       "      <th>6</th>\n",
       "      <td>scaly stowaway lizard make appearance chelsea ...</td>\n",
       "      <td>657</td>\n",
       "      <td>0.0593607305936073</td>\n",
       "    </tr>\n",
       "    <tr>\n",
       "      <th>8</th>\n",
       "      <td>uk energy industry urge minister stick net zer...</td>\n",
       "      <td>806</td>\n",
       "      <td>0.05086848635235732</td>\n",
       "    </tr>\n",
       "    <tr>\n",
       "      <th>16</th>\n",
       "      <td>article months oldfood fee fuel global seaweed...</td>\n",
       "      <td>765</td>\n",
       "      <td>0.0457516339869281</td>\n",
       "    </tr>\n",
       "    <tr>\n",
       "      <th>17</th>\n",
       "      <td>article months oldus behind third global oil g...</td>\n",
       "      <td>902</td>\n",
       "      <td>0.057649667405764965</td>\n",
       "    </tr>\n",
       "    <tr>\n",
       "      <th>...</th>\n",
       "      <td>...</td>\n",
       "      <td>...</td>\n",
       "      <td>...</td>\n",
       "    </tr>\n",
       "    <tr>\n",
       "      <th>30038</th>\n",
       "      <td>capitalism part solution climate crisis say ma...</td>\n",
       "      <td>529</td>\n",
       "      <td>0.05671077504725898</td>\n",
       "    </tr>\n",
       "    <tr>\n",
       "      <th>30040</th>\n",
       "      <td>course hot return wrestle eastenders legendale...</td>\n",
       "      <td>948</td>\n",
       "      <td>0.0580168776371308</td>\n",
       "    </tr>\n",
       "    <tr>\n",
       "      <th>30042</th>\n",
       "      <td>country diary seal remain show nature sentimen...</td>\n",
       "      <td>450</td>\n",
       "      <td>0.057777777777777775</td>\n",
       "    </tr>\n",
       "    <tr>\n",
       "      <th>30050</th>\n",
       "      <td>bhp face fresh call quit minerals council ahea...</td>\n",
       "      <td>822</td>\n",
       "      <td>0.052311435523114354</td>\n",
       "    </tr>\n",
       "    <tr>\n",
       "      <th>30054</th>\n",
       "      <td>climate change could make insurance expensive ...</td>\n",
       "      <td>668</td>\n",
       "      <td>0.04640718562874251</td>\n",
       "    </tr>\n",
       "  </tbody>\n",
       "</table>\n",
       "<p>8187 rows × 3 columns</p>\n",
       "</div>"
      ],
      "text/plain": [
       "                                                 article Text_Length  \\\n",
       "3      buy much red cabbage turn festive nut roast re...         542   \n",
       "6      scaly stowaway lizard make appearance chelsea ...         657   \n",
       "8      uk energy industry urge minister stick net zer...         806   \n",
       "16     article months oldfood fee fuel global seaweed...         765   \n",
       "17     article months oldus behind third global oil g...         902   \n",
       "...                                                  ...         ...   \n",
       "30038  capitalism part solution climate crisis say ma...         529   \n",
       "30040  course hot return wrestle eastenders legendale...         948   \n",
       "30042  country diary seal remain show nature sentimen...         450   \n",
       "30050  bhp face fresh call quit minerals council ahea...         822   \n",
       "30054  climate change could make insurance expensive ...         668   \n",
       "\n",
       "           Repetition_Ratio  \n",
       "3       0.04797047970479705  \n",
       "6        0.0593607305936073  \n",
       "8       0.05086848635235732  \n",
       "16       0.0457516339869281  \n",
       "17     0.057649667405764965  \n",
       "...                     ...  \n",
       "30038   0.05671077504725898  \n",
       "30040    0.0580168776371308  \n",
       "30042  0.057777777777777775  \n",
       "30050  0.052311435523114354  \n",
       "30054   0.04640718562874251  \n",
       "\n",
       "[8187 rows x 3 columns]"
      ]
     },
     "execution_count": 25,
     "metadata": {},
     "output_type": "execute_result"
    }
   ],
   "source": [
    "df.drop(['tokens'], axis=1)"
   ]
  },
  {
   "cell_type": "code",
   "execution_count": 26,
   "metadata": {},
   "outputs": [
    {
     "name": "stdout",
     "output_type": "stream",
     "text": [
      "Processed data saved to data/processed_data.csv\n"
     ]
    }
   ],
   "source": [
    "# Save as csv file\n",
    "output_file = \"data/processed_data.csv\"\n",
    "df.to_csv(output_file, index=False)\n",
    "print(f\"Processed data saved to {output_file}\")"
   ]
  },
  {
   "cell_type": "code",
   "execution_count": 27,
   "metadata": {},
   "outputs": [
    {
     "name": "stdout",
     "output_type": "stream",
     "text": [
      "Processed data saved to data/model_data.csv\n"
     ]
    }
   ],
   "source": [
    "data = df[\"article\"]\n",
    "output_file = \"data/model_data.csv\"\n",
    "data.to_csv(output_file, index=False)\n",
    "print(f\"Processed data saved to {output_file}\")"
   ]
  },
  {
   "cell_type": "code",
   "execution_count": null,
   "metadata": {},
   "outputs": [],
   "source": []
  }
 ],
 "metadata": {
  "kernelspec": {
   "display_name": "base",
   "language": "python",
   "name": "python3"
  },
  "language_info": {
   "codemirror_mode": {
    "name": "ipython",
    "version": 3
   },
   "file_extension": ".py",
   "mimetype": "text/x-python",
   "name": "python",
   "nbconvert_exporter": "python",
   "pygments_lexer": "ipython3",
   "version": "3.12.7"
  }
 },
 "nbformat": 4,
 "nbformat_minor": 2
}
