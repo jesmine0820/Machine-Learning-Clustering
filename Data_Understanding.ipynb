{
 "cells": [
  {
   "cell_type": "markdown",
   "metadata": {},
   "source": [
    "# Data Understanding"
   ]
  },
  {
   "cell_type": "code",
   "execution_count": 1,
   "metadata": {},
   "outputs": [],
   "source": [
    "# Import Libraries\n",
    "import pandas as pd"
   ]
  },
  {
   "cell_type": "code",
   "execution_count": 2,
   "metadata": {},
   "outputs": [
    {
     "data": {
      "text/html": [
       "<div>\n",
       "<style scoped>\n",
       "    .dataframe tbody tr th:only-of-type {\n",
       "        vertical-align: middle;\n",
       "    }\n",
       "\n",
       "    .dataframe tbody tr th {\n",
       "        vertical-align: top;\n",
       "    }\n",
       "\n",
       "    .dataframe thead th {\n",
       "        text-align: right;\n",
       "    }\n",
       "</style>\n",
       "<table border=\"1\" class=\"dataframe\">\n",
       "  <thead>\n",
       "    <tr style=\"text-align: right;\">\n",
       "      <th></th>\n",
       "      <th>Title</th>\n",
       "      <th>Intro Text</th>\n",
       "      <th>Authors</th>\n",
       "      <th>Article Text</th>\n",
       "      <th>Date Published</th>\n",
       "    </tr>\n",
       "  </thead>\n",
       "  <tbody>\n",
       "    <tr>\n",
       "      <th>0</th>\n",
       "      <td>Liz Truss ‘will approve more oil drilling if ...</td>\n",
       "      <td>Tory leadership candidate criticised by campai...</td>\n",
       "      <td>['Rob Davies', '@ByRobDavies']</td>\n",
       "      <td>Liz Truss will sign off on a push for more oil...</td>\n",
       "      <td>2022-08-30</td>\n",
       "    </tr>\n",
       "    <tr>\n",
       "      <th>1</th>\n",
       "      <td>Renewed Highland golf course plan has environm...</td>\n",
       "      <td>Scottish government rejected a new links at Co...</td>\n",
       "      <td>['Ewan Murray', '@mrewanmurray']</td>\n",
       "      <td>It is an area so tranquil that the notion of b...</td>\n",
       "      <td>2021-03-22</td>\n",
       "    </tr>\n",
       "    <tr>\n",
       "      <th>2</th>\n",
       "      <td>Visiting green spaces deters mental health dr...</td>\n",
       "      <td>Positive effects were stronger among those rep...</td>\n",
       "      <td>['Damien Gayle', '@damiengayle']</td>\n",
       "      <td>Visits to parks, community gardens and other u...</td>\n",
       "      <td>2023-01-17</td>\n",
       "    </tr>\n",
       "    <tr>\n",
       "      <th>3</th>\n",
       "      <td>Bought too much red cabbage? Turn it into a fe...</td>\n",
       "      <td>This fantastic vegan centrepiece makes full us...</td>\n",
       "      <td>['Tom Hunt']</td>\n",
       "      <td>I devised today’s nut roast for Oddbox, a veg ...</td>\n",
       "      <td>2023-12-22</td>\n",
       "    </tr>\n",
       "    <tr>\n",
       "      <th>4</th>\n",
       "      <td>‘This year has been very good’: readers’ UK bu...</td>\n",
       "      <td>Readers share their favourite sightings over t...</td>\n",
       "      <td>['Guardian readers']</td>\n",
       "      <td>‘Constant companions to our gardening’A peacoc...</td>\n",
       "      <td>2023-12-19</td>\n",
       "    </tr>\n",
       "  </tbody>\n",
       "</table>\n",
       "</div>"
      ],
      "text/plain": [
       "                                               Title  \\\n",
       "0   Liz Truss ‘will approve more oil drilling if ...   \n",
       "1  Renewed Highland golf course plan has environm...   \n",
       "2   Visiting green spaces deters mental health dr...   \n",
       "3  Bought too much red cabbage? Turn it into a fe...   \n",
       "4  ‘This year has been very good’: readers’ UK bu...   \n",
       "\n",
       "                                          Intro Text  \\\n",
       "0  Tory leadership candidate criticised by campai...   \n",
       "1  Scottish government rejected a new links at Co...   \n",
       "2  Positive effects were stronger among those rep...   \n",
       "3  This fantastic vegan centrepiece makes full us...   \n",
       "4  Readers share their favourite sightings over t...   \n",
       "\n",
       "                            Authors  \\\n",
       "0    ['Rob Davies', '@ByRobDavies']   \n",
       "1  ['Ewan Murray', '@mrewanmurray']   \n",
       "2  ['Damien Gayle', '@damiengayle']   \n",
       "3                      ['Tom Hunt']   \n",
       "4              ['Guardian readers']   \n",
       "\n",
       "                                        Article Text Date Published  \n",
       "0  Liz Truss will sign off on a push for more oil...     2022-08-30  \n",
       "1  It is an area so tranquil that the notion of b...     2021-03-22  \n",
       "2  Visits to parks, community gardens and other u...     2023-01-17  \n",
       "3  I devised today’s nut roast for Oddbox, a veg ...     2023-12-22  \n",
       "4  ‘Constant companions to our gardening’A peacoc...     2023-12-19  "
      ]
     },
     "execution_count": 2,
     "metadata": {},
     "output_type": "execute_result"
    }
   ],
   "source": [
    "df = pd.read_csv(\"data/guardian_environment_news.csv\")\n",
    "df.head()"
   ]
  },
  {
   "cell_type": "code",
   "execution_count": 3,
   "metadata": {},
   "outputs": [
    {
     "name": "stdout",
     "output_type": "stream",
     "text": [
      "Columns: ['Title', 'Intro Text', 'Authors', 'Article Text', 'Date Published']\n",
      "Total Rows: 30059\n",
      "Shape of the dataset: (30059, 5)\n"
     ]
    }
   ],
   "source": [
    "# Get the total number of columns and data\n",
    "columns = df.columns.tolist()\n",
    "rows = len(df)\n",
    "shape = df.shape\n",
    "\n",
    "print(f\"Columns: {columns}\")\n",
    "print(f\"Total Rows: {rows}\")\n",
    "print(f\"Shape of the dataset: {shape}\")"
   ]
  },
  {
   "cell_type": "code",
   "execution_count": 4,
   "metadata": {},
   "outputs": [
    {
     "name": "stdout",
     "output_type": "stream",
     "text": [
      "<class 'pandas.core.frame.DataFrame'>\n",
      "RangeIndex: 30059 entries, 0 to 30058\n",
      "Data columns (total 5 columns):\n",
      " #   Column          Non-Null Count  Dtype \n",
      "---  ------          --------------  ----- \n",
      " 0   Title           29111 non-null  object\n",
      " 1   Intro Text      29977 non-null  object\n",
      " 2   Authors         25489 non-null  object\n",
      " 3   Article Text    29691 non-null  object\n",
      " 4   Date Published  27618 non-null  object\n",
      "dtypes: object(5)\n",
      "memory usage: 1.1+ MB\n"
     ]
    }
   ],
   "source": [
    "# Get the basic information of the dataset\n",
    "df.info()"
   ]
  },
  {
   "cell_type": "code",
   "execution_count": 5,
   "metadata": {},
   "outputs": [
    {
     "name": "stdout",
     "output_type": "stream",
     "text": [
      "Null value of Title: 948\n",
      "Null value of Intro Text: 82\n",
      "Null value of Authors: 4570\n",
      "Null value of Article Text: 368\n",
      "Null value of Date Published: 2441\n"
     ]
    }
   ],
   "source": [
    "# Get the total number of the null value for each column\n",
    "for x in df.columns:\n",
    "    null_value = df[x].isnull().sum()\n",
    "    print(f\"Null value of {x}: {null_value}\")"
   ]
  },
  {
   "cell_type": "code",
   "execution_count": 6,
   "metadata": {},
   "outputs": [
    {
     "name": "stdout",
     "output_type": "stream",
     "text": [
      "Rows with Missing Values:\n",
      "                                                   Title  \\\n",
      "9      The bear truth: why happy pandas can’t be both...   \n",
      "10      Shell chief vows to bolster emissions strateg...   \n",
      "14      Here in British Columbia, we have spent the s...   \n",
      "15      This article is more than 5 months oldSunak’s...   \n",
      "18     The Guardian view on switching off: in an alwa...   \n",
      "...                                                  ...   \n",
      "30040   Of course I’m hot – for the return of wrestli...   \n",
      "30044   When our planet is under attack we have to st...   \n",
      "30046                      ObituarySimon Pepper obituary   \n",
      "30048   Our laws make slaves of nature. It’s not just...   \n",
      "30057                                                NaN   \n",
      "\n",
      "                                              Intro Text  \\\n",
      "9      Researchers now think pandas’ notoriously low ...   \n",
      "10      Ben van Beurden pledges to ‘rise to challenge...   \n",
      "14     Blazes are destroying whole communities. The C...   \n",
      "15     Consensus on tackling the climate crisis is wh...   \n",
      "18     Midwinter is for hibernation and the chance to...   \n",
      "...                                                  ...   \n",
      "30040  Strange things are happening in sun-baked Brit...   \n",
      "30044  What is crazier: dancing on a bridge to build ...   \n",
      "30046                                                NaN   \n",
      "30048  For decades our laws have been a death sentenc...   \n",
      "30057  Reports that a mass of ice is in danger of bre...   \n",
      "\n",
      "                    Authors  \\\n",
      "9                       NaN   \n",
      "10     ['Joanna Partridge']   \n",
      "14                      NaN   \n",
      "15                      NaN   \n",
      "18                      NaN   \n",
      "...                     ...   \n",
      "30040                   NaN   \n",
      "30044                   NaN   \n",
      "30046        ['Hugh Raven']   \n",
      "30048                   NaN   \n",
      "30057                   NaN   \n",
      "\n",
      "                                            Article Text Date Published  \n",
      "9      Name: Panda sex.Age: 18m years old.Frequency: ...     2021-03-12  \n",
      "10     Royal Dutch Shell has vowed to accelerate its ...            NaN  \n",
      "14     Small fires crackle into life on the hills aro...     2021-08-31  \n",
      "15     For as long as the United Kingdom needs to use...     2023-07-31  \n",
      "18     “Disconnect from the internet for at least two...     2024-01-06  \n",
      "...                                                  ...            ...  \n",
      "30040  In my corner of south-eastern Ireland, even a ...     2019-07-15  \n",
      "30044  Until a few months ago I never imagined blocki...     2021-01-20  \n",
      "30046  My friend Simon Pepper, who has died aged 70 o...     2021-09-05  \n",
      "30048  The Amazon rainforest is often called the eart...     2018-03-16  \n",
      "30057  Like millions of their compatriots around the ...     2020-01-06  \n",
      "\n",
      "[7103 rows x 5 columns]\n"
     ]
    }
   ],
   "source": [
    "# Print the rows with missing values\n",
    "def check_missing_values(df):\n",
    "    missing_rows = df[df.isnull().any(axis=1)]\n",
    "    if missing_rows.empty:\n",
    "        print(\"No missing values found in the dataset.\")\n",
    "    else:\n",
    "        print(\"Rows with Missing Values:\")\n",
    "        print(missing_rows)\n",
    "\n",
    "check_missing_values(df)"
   ]
  },
  {
   "cell_type": "code",
   "execution_count": 7,
   "metadata": {},
   "outputs": [
    {
     "name": "stdout",
     "output_type": "stream",
     "text": [
      "Total duplicated data: 0\n"
     ]
    }
   ],
   "source": [
    "duplicated_data = df.duplicated().sum()\n",
    "print(f\"Total duplicated data: {duplicated_data}\")"
   ]
  },
  {
   "cell_type": "code",
   "execution_count": 8,
   "metadata": {},
   "outputs": [
    {
     "name": "stdout",
     "output_type": "stream",
     "text": [
      "No duplicated values found in the dataset.\n"
     ]
    }
   ],
   "source": [
    "# Print the rows with duplicate values\n",
    "def check_duplicate_values(df):\n",
    "    duplicated_rows = df[df.duplicated()]\n",
    "    if duplicated_rows.empty:\n",
    "        print(\"No duplicated values found in the dataset.\")\n",
    "    else:\n",
    "        print(\"Rows with Duplicated Values:\")\n",
    "        print(duplicated_rows)\n",
    "\n",
    "check_duplicate_values(df)"
   ]
  },
  {
   "cell_type": "code",
   "execution_count": 9,
   "metadata": {},
   "outputs": [
    {
     "name": "stdout",
     "output_type": "stream",
     "text": [
      "        Text_Length    Word_Count\n",
      "count  30059.000000  30059.000000\n",
      "mean    4862.713663    784.057986\n",
      "std     3150.041167    513.307735\n",
      "min        0.000000      0.000000\n",
      "25%     2889.000000    465.000000\n",
      "50%     4369.000000    698.000000\n",
      "75%     5975.000000    958.000000\n",
      "max    50264.000000   7882.000000\n"
     ]
    }
   ],
   "source": [
    "# Get descriptive statistics for the text length and word count\n",
    "# Fill the missing value to 0\n",
    "df[\"Article Text\"] = df[\"Article Text\"].fillna(\"\").astype(str)\n",
    "\n",
    "df[\"Text_Length\"] = df[\"Article Text\"].apply(len)\n",
    "df[\"Word_Count\"] = df[\"Article Text\"].apply(lambda x: len(x.split()))\n",
    "print(df[[\"Text_Length\", \"Word_Count\"]].describe())"
   ]
  },
  {
   "cell_type": "code",
   "execution_count": 10,
   "metadata": {},
   "outputs": [
    {
     "name": "stdout",
     "output_type": "stream",
     "text": [
      "Total unique title: 29109\n",
      "Sample unique title: [' Liz Truss ‘will approve more oil drilling if she becomes PM’'\n",
      " \"Renewed Highland golf course plan has environmentalists crying 'Fore!'\"\n",
      " ' Visiting green spaces deters mental health drug use, researchers find'\n",
      " ... ' Republican lawmaker pitches carbon tax in defiance of party stance'\n",
      " ' MPs call for urgent investigation into $180m in water buybacks'\n",
      " ' Climate crisis must not be overshadowed by Covid, Johnson to tell UN']\n"
     ]
    }
   ],
   "source": [
    "total_title = df[\"Title\"].nunique()\n",
    "unique_title = df[\"Title\"].unique()\n",
    "\n",
    "print(f\"Total unique title: {total_title}\")\n",
    "print(f\"Sample unique title: {unique_title}\")"
   ]
  },
  {
   "cell_type": "code",
   "execution_count": null,
   "metadata": {},
   "outputs": [],
   "source": []
  }
 ],
 "metadata": {
  "kernelspec": {
   "display_name": "base",
   "language": "python",
   "name": "python3"
  },
  "language_info": {
   "codemirror_mode": {
    "name": "ipython",
    "version": 3
   },
   "file_extension": ".py",
   "mimetype": "text/x-python",
   "name": "python",
   "nbconvert_exporter": "python",
   "pygments_lexer": "ipython3",
   "version": "3.12.7"
  }
 },
 "nbformat": 4,
 "nbformat_minor": 2
}
